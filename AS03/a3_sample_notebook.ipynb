{
  "cells": [
    {
      "cell_type": "markdown",
      "metadata": {
        "id": "7z0GV0RfTTXC"
      },
      "source": [
        "<a href=\"https://colab.research.google.com/github/ohimjosh/CSC-44800/blob/main/AS03/a3_sample_notebook.ipynb\" target=\"_parent\"><img src=\"https://colab.research.google.com/assets/colab-badge.svg\" alt=\"Open In Colab\"/></a>\n",
        "\n",
        "\\(\\^Be sure to update this button to point to your notebook instead of the sample notebook\\)"
      ]
    },
    {
      "cell_type": "code",
      "execution_count": 23,
      "metadata": {
        "id": "eREyG25ITTXF"
      },
      "outputs": [],
      "source": [
        "# Imports section\n",
        "import pandas as pd\n",
        "import numpy as np\n",
        "from sklearn.model_selection import train_test_split\n",
        "from sklearn.linear_model import LinearRegression\n",
        "from sklearn.model_selection import cross_val_score\n",
        "from sklearn.preprocessing import PolynomialFeatures\n",
        "from sklearn.pipeline import Pipeline"
      ]
    },
    {
      "cell_type": "markdown",
      "metadata": {
        "id": "hNjmvN14TTXG"
      },
      "source": [
        "## Part 1. Loading the dataset"
      ]
    },
    {
      "cell_type": "code",
      "execution_count": 24,
      "metadata": {
        "id": "SiCpgb4lTTXG"
      },
      "outputs": [
        {
          "data": {
            "text/html": [
              "<div>\n",
              "<style scoped>\n",
              "    .dataframe tbody tr th:only-of-type {\n",
              "        vertical-align: middle;\n",
              "    }\n",
              "\n",
              "    .dataframe tbody tr th {\n",
              "        vertical-align: top;\n",
              "    }\n",
              "\n",
              "    .dataframe thead th {\n",
              "        text-align: right;\n",
              "    }\n",
              "</style>\n",
              "<table border=\"1\" class=\"dataframe\">\n",
              "  <thead>\n",
              "    <tr style=\"text-align: right;\">\n",
              "      <th></th>\n",
              "      <th>Temperature °C</th>\n",
              "      <th>Mols KCL</th>\n",
              "      <th>Size nm^3</th>\n",
              "    </tr>\n",
              "  </thead>\n",
              "  <tbody>\n",
              "    <tr>\n",
              "      <th>0</th>\n",
              "      <td>469</td>\n",
              "      <td>647</td>\n",
              "      <td>6.244743e+05</td>\n",
              "    </tr>\n",
              "    <tr>\n",
              "      <th>1</th>\n",
              "      <td>403</td>\n",
              "      <td>694</td>\n",
              "      <td>5.779610e+05</td>\n",
              "    </tr>\n",
              "    <tr>\n",
              "      <th>2</th>\n",
              "      <td>302</td>\n",
              "      <td>975</td>\n",
              "      <td>6.196847e+05</td>\n",
              "    </tr>\n",
              "    <tr>\n",
              "      <th>3</th>\n",
              "      <td>779</td>\n",
              "      <td>916</td>\n",
              "      <td>1.460449e+06</td>\n",
              "    </tr>\n",
              "    <tr>\n",
              "      <th>4</th>\n",
              "      <td>901</td>\n",
              "      <td>18</td>\n",
              "      <td>4.325726e+04</td>\n",
              "    </tr>\n",
              "    <tr>\n",
              "      <th>5</th>\n",
              "      <td>545</td>\n",
              "      <td>637</td>\n",
              "      <td>7.124634e+05</td>\n",
              "    </tr>\n",
              "    <tr>\n",
              "      <th>6</th>\n",
              "      <td>660</td>\n",
              "      <td>519</td>\n",
              "      <td>7.006960e+05</td>\n",
              "    </tr>\n",
              "    <tr>\n",
              "      <th>7</th>\n",
              "      <td>143</td>\n",
              "      <td>869</td>\n",
              "      <td>2.718260e+05</td>\n",
              "    </tr>\n",
              "    <tr>\n",
              "      <th>8</th>\n",
              "      <td>89</td>\n",
              "      <td>461</td>\n",
              "      <td>8.919803e+04</td>\n",
              "    </tr>\n",
              "    <tr>\n",
              "      <th>9</th>\n",
              "      <td>294</td>\n",
              "      <td>776</td>\n",
              "      <td>4.770210e+05</td>\n",
              "    </tr>\n",
              "    <tr>\n",
              "      <th>10</th>\n",
              "      <td>991</td>\n",
              "      <td>117</td>\n",
              "      <td>2.441771e+05</td>\n",
              "    </tr>\n",
              "    <tr>\n",
              "      <th>11</th>\n",
              "      <td>307</td>\n",
              "      <td>781</td>\n",
              "      <td>5.006455e+05</td>\n",
              "    </tr>\n",
              "    <tr>\n",
              "      <th>12</th>\n",
              "      <td>206</td>\n",
              "      <td>70</td>\n",
              "      <td>3.145200e+04</td>\n",
              "    </tr>\n",
              "    <tr>\n",
              "      <th>13</th>\n",
              "      <td>437</td>\n",
              "      <td>599</td>\n",
              "      <td>5.390215e+05</td>\n",
              "    </tr>\n",
              "    <tr>\n",
              "      <th>14</th>\n",
              "      <td>566</td>\n",
              "      <td>75</td>\n",
              "      <td>9.185271e+04</td>\n",
              "    </tr>\n",
              "  </tbody>\n",
              "</table>\n",
              "</div>"
            ],
            "text/plain": [
              "    Temperature °C  Mols KCL     Size nm^3\n",
              "0              469       647  6.244743e+05\n",
              "1              403       694  5.779610e+05\n",
              "2              302       975  6.196847e+05\n",
              "3              779       916  1.460449e+06\n",
              "4              901        18  4.325726e+04\n",
              "5              545       637  7.124634e+05\n",
              "6              660       519  7.006960e+05\n",
              "7              143       869  2.718260e+05\n",
              "8               89       461  8.919803e+04\n",
              "9              294       776  4.770210e+05\n",
              "10             991       117  2.441771e+05\n",
              "11             307       781  5.006455e+05\n",
              "12             206        70  3.145200e+04\n",
              "13             437       599  5.390215e+05\n",
              "14             566        75  9.185271e+04"
            ]
          },
          "execution_count": 24,
          "metadata": {},
          "output_type": "execute_result"
        }
      ],
      "source": [
        "# Using pandas load the dataset (load remotely, not locally)\n",
        "# Output the first 15 rows of the data\n",
        "# Display a summary of the table information (number of datapoints, etc.)\n",
        "\n",
        "data = pd.read_csv(\"https://raw.githubusercontent.com/profmcnich/example_notebook/main/science_data_large.csv\")\n",
        "data.head(15)"
      ]
    },
    {
      "cell_type": "code",
      "execution_count": 25,
      "metadata": {},
      "outputs": [
        {
          "name": "stdout",
          "output_type": "stream",
          "text": [
            "<class 'pandas.core.frame.DataFrame'>\n",
            "RangeIndex: 1000 entries, 0 to 999\n",
            "Data columns (total 3 columns):\n",
            " #   Column          Non-Null Count  Dtype  \n",
            "---  ------          --------------  -----  \n",
            " 0   Temperature °C  1000 non-null   int64  \n",
            " 1   Mols KCL        1000 non-null   int64  \n",
            " 2   Size nm^3       1000 non-null   float64\n",
            "dtypes: float64(1), int64(2)\n",
            "memory usage: 23.6 KB\n"
          ]
        }
      ],
      "source": [
        "data.info()"
      ]
    },
    {
      "cell_type": "markdown",
      "metadata": {
        "id": "7gx3qflvTTXH"
      },
      "source": [
        "## Part 2. Splitting the dataset"
      ]
    },
    {
      "cell_type": "code",
      "execution_count": 26,
      "metadata": {
        "id": "2vaRahkpTTXH"
      },
      "outputs": [],
      "source": [
        "# Take the pandas dataset and split it into our features (X) and label (y)\n",
        "X = data[[\"Temperature °C\", \"Mols KCL\"]]\n",
        "y = data[\"Size nm^3\"]\n",
        "# Use sklearn to split the features and labels into a training/test set. (90% train, 10% test)\n",
        "X_train, X_test, y_train, y_test = train_test_split(X, y, train_size=0.9, test_size=0.1)"
      ]
    },
    {
      "cell_type": "code",
      "execution_count": 27,
      "metadata": {},
      "outputs": [
        {
          "data": {
            "text/html": [
              "<div>\n",
              "<style scoped>\n",
              "    .dataframe tbody tr th:only-of-type {\n",
              "        vertical-align: middle;\n",
              "    }\n",
              "\n",
              "    .dataframe tbody tr th {\n",
              "        vertical-align: top;\n",
              "    }\n",
              "\n",
              "    .dataframe thead th {\n",
              "        text-align: right;\n",
              "    }\n",
              "</style>\n",
              "<table border=\"1\" class=\"dataframe\">\n",
              "  <thead>\n",
              "    <tr style=\"text-align: right;\">\n",
              "      <th></th>\n",
              "      <th>Temperature °C</th>\n",
              "      <th>Mols KCL</th>\n",
              "    </tr>\n",
              "  </thead>\n",
              "  <tbody>\n",
              "    <tr>\n",
              "      <th>0</th>\n",
              "      <td>469</td>\n",
              "      <td>647</td>\n",
              "    </tr>\n",
              "    <tr>\n",
              "      <th>1</th>\n",
              "      <td>403</td>\n",
              "      <td>694</td>\n",
              "    </tr>\n",
              "    <tr>\n",
              "      <th>2</th>\n",
              "      <td>302</td>\n",
              "      <td>975</td>\n",
              "    </tr>\n",
              "    <tr>\n",
              "      <th>3</th>\n",
              "      <td>779</td>\n",
              "      <td>916</td>\n",
              "    </tr>\n",
              "    <tr>\n",
              "      <th>4</th>\n",
              "      <td>901</td>\n",
              "      <td>18</td>\n",
              "    </tr>\n",
              "    <tr>\n",
              "      <th>...</th>\n",
              "      <td>...</td>\n",
              "      <td>...</td>\n",
              "    </tr>\n",
              "    <tr>\n",
              "      <th>995</th>\n",
              "      <td>894</td>\n",
              "      <td>847</td>\n",
              "    </tr>\n",
              "    <tr>\n",
              "      <th>996</th>\n",
              "      <td>327</td>\n",
              "      <td>982</td>\n",
              "    </tr>\n",
              "    <tr>\n",
              "      <th>997</th>\n",
              "      <td>791</td>\n",
              "      <td>213</td>\n",
              "    </tr>\n",
              "    <tr>\n",
              "      <th>998</th>\n",
              "      <td>769</td>\n",
              "      <td>553</td>\n",
              "    </tr>\n",
              "    <tr>\n",
              "      <th>999</th>\n",
              "      <td>919</td>\n",
              "      <td>452</td>\n",
              "    </tr>\n",
              "  </tbody>\n",
              "</table>\n",
              "<p>1000 rows × 2 columns</p>\n",
              "</div>"
            ],
            "text/plain": [
              "     Temperature °C  Mols KCL\n",
              "0               469       647\n",
              "1               403       694\n",
              "2               302       975\n",
              "3               779       916\n",
              "4               901        18\n",
              "..              ...       ...\n",
              "995             894       847\n",
              "996             327       982\n",
              "997             791       213\n",
              "998             769       553\n",
              "999             919       452\n",
              "\n",
              "[1000 rows x 2 columns]"
            ]
          },
          "execution_count": 27,
          "metadata": {},
          "output_type": "execute_result"
        }
      ],
      "source": [
        "X"
      ]
    },
    {
      "cell_type": "code",
      "execution_count": 28,
      "metadata": {},
      "outputs": [
        {
          "data": {
            "text/plain": [
              "0      6.244743e+05\n",
              "1      5.779610e+05\n",
              "2      6.196847e+05\n",
              "3      1.460449e+06\n",
              "4      4.325726e+04\n",
              "           ...     \n",
              "995    1.545661e+06\n",
              "996    6.737041e+05\n",
              "997    3.477543e+05\n",
              "998    8.684794e+05\n",
              "999    8.476413e+05\n",
              "Name: Size nm^3, Length: 1000, dtype: float64"
            ]
          },
          "execution_count": 28,
          "metadata": {},
          "output_type": "execute_result"
        }
      ],
      "source": [
        "y"
      ]
    },
    {
      "cell_type": "code",
      "execution_count": 29,
      "metadata": {},
      "outputs": [
        {
          "data": {
            "text/html": [
              "<div>\n",
              "<style scoped>\n",
              "    .dataframe tbody tr th:only-of-type {\n",
              "        vertical-align: middle;\n",
              "    }\n",
              "\n",
              "    .dataframe tbody tr th {\n",
              "        vertical-align: top;\n",
              "    }\n",
              "\n",
              "    .dataframe thead th {\n",
              "        text-align: right;\n",
              "    }\n",
              "</style>\n",
              "<table border=\"1\" class=\"dataframe\">\n",
              "  <thead>\n",
              "    <tr style=\"text-align: right;\">\n",
              "      <th></th>\n",
              "      <th>Temperature °C</th>\n",
              "      <th>Mols KCL</th>\n",
              "    </tr>\n",
              "  </thead>\n",
              "  <tbody>\n",
              "    <tr>\n",
              "      <th>127</th>\n",
              "      <td>343</td>\n",
              "      <td>172</td>\n",
              "    </tr>\n",
              "    <tr>\n",
              "      <th>199</th>\n",
              "      <td>111</td>\n",
              "      <td>774</td>\n",
              "    </tr>\n",
              "    <tr>\n",
              "      <th>623</th>\n",
              "      <td>823</td>\n",
              "      <td>173</td>\n",
              "    </tr>\n",
              "    <tr>\n",
              "      <th>929</th>\n",
              "      <td>615</td>\n",
              "      <td>525</td>\n",
              "    </tr>\n",
              "    <tr>\n",
              "      <th>196</th>\n",
              "      <td>717</td>\n",
              "      <td>887</td>\n",
              "    </tr>\n",
              "    <tr>\n",
              "      <th>...</th>\n",
              "      <td>...</td>\n",
              "      <td>...</td>\n",
              "    </tr>\n",
              "    <tr>\n",
              "      <th>614</th>\n",
              "      <td>979</td>\n",
              "      <td>987</td>\n",
              "    </tr>\n",
              "    <tr>\n",
              "      <th>400</th>\n",
              "      <td>530</td>\n",
              "      <td>326</td>\n",
              "    </tr>\n",
              "    <tr>\n",
              "      <th>759</th>\n",
              "      <td>215</td>\n",
              "      <td>263</td>\n",
              "    </tr>\n",
              "    <tr>\n",
              "      <th>398</th>\n",
              "      <td>129</td>\n",
              "      <td>68</td>\n",
              "    </tr>\n",
              "    <tr>\n",
              "      <th>117</th>\n",
              "      <td>283</td>\n",
              "      <td>637</td>\n",
              "    </tr>\n",
              "  </tbody>\n",
              "</table>\n",
              "<p>900 rows × 2 columns</p>\n",
              "</div>"
            ],
            "text/plain": [
              "     Temperature °C  Mols KCL\n",
              "127             343       172\n",
              "199             111       774\n",
              "623             823       173\n",
              "929             615       525\n",
              "196             717       887\n",
              "..              ...       ...\n",
              "614             979       987\n",
              "400             530       326\n",
              "759             215       263\n",
              "398             129        68\n",
              "117             283       637\n",
              "\n",
              "[900 rows x 2 columns]"
            ]
          },
          "execution_count": 29,
          "metadata": {},
          "output_type": "execute_result"
        }
      ],
      "source": [
        "X_train"
      ]
    },
    {
      "cell_type": "code",
      "execution_count": 30,
      "metadata": {},
      "outputs": [
        {
          "data": {
            "text/html": [
              "<div>\n",
              "<style scoped>\n",
              "    .dataframe tbody tr th:only-of-type {\n",
              "        vertical-align: middle;\n",
              "    }\n",
              "\n",
              "    .dataframe tbody tr th {\n",
              "        vertical-align: top;\n",
              "    }\n",
              "\n",
              "    .dataframe thead th {\n",
              "        text-align: right;\n",
              "    }\n",
              "</style>\n",
              "<table border=\"1\" class=\"dataframe\">\n",
              "  <thead>\n",
              "    <tr style=\"text-align: right;\">\n",
              "      <th></th>\n",
              "      <th>Temperature °C</th>\n",
              "      <th>Mols KCL</th>\n",
              "    </tr>\n",
              "  </thead>\n",
              "  <tbody>\n",
              "    <tr>\n",
              "      <th>1</th>\n",
              "      <td>403</td>\n",
              "      <td>694</td>\n",
              "    </tr>\n",
              "    <tr>\n",
              "      <th>244</th>\n",
              "      <td>404</td>\n",
              "      <td>641</td>\n",
              "    </tr>\n",
              "    <tr>\n",
              "      <th>716</th>\n",
              "      <td>95</td>\n",
              "      <td>499</td>\n",
              "    </tr>\n",
              "    <tr>\n",
              "      <th>448</th>\n",
              "      <td>36</td>\n",
              "      <td>151</td>\n",
              "    </tr>\n",
              "    <tr>\n",
              "      <th>539</th>\n",
              "      <td>874</td>\n",
              "      <td>827</td>\n",
              "    </tr>\n",
              "    <tr>\n",
              "      <th>...</th>\n",
              "      <td>...</td>\n",
              "      <td>...</td>\n",
              "    </tr>\n",
              "    <tr>\n",
              "      <th>98</th>\n",
              "      <td>847</td>\n",
              "      <td>340</td>\n",
              "    </tr>\n",
              "    <tr>\n",
              "      <th>63</th>\n",
              "      <td>580</td>\n",
              "      <td>817</td>\n",
              "    </tr>\n",
              "    <tr>\n",
              "      <th>766</th>\n",
              "      <td>282</td>\n",
              "      <td>311</td>\n",
              "    </tr>\n",
              "    <tr>\n",
              "      <th>739</th>\n",
              "      <td>240</td>\n",
              "      <td>402</td>\n",
              "    </tr>\n",
              "    <tr>\n",
              "      <th>982</th>\n",
              "      <td>347</td>\n",
              "      <td>274</td>\n",
              "    </tr>\n",
              "  </tbody>\n",
              "</table>\n",
              "<p>100 rows × 2 columns</p>\n",
              "</div>"
            ],
            "text/plain": [
              "     Temperature °C  Mols KCL\n",
              "1               403       694\n",
              "244             404       641\n",
              "716              95       499\n",
              "448              36       151\n",
              "539             874       827\n",
              "..              ...       ...\n",
              "98              847       340\n",
              "63              580       817\n",
              "766             282       311\n",
              "739             240       402\n",
              "982             347       274\n",
              "\n",
              "[100 rows x 2 columns]"
            ]
          },
          "execution_count": 30,
          "metadata": {},
          "output_type": "execute_result"
        }
      ],
      "source": [
        "X_test"
      ]
    },
    {
      "cell_type": "code",
      "execution_count": 31,
      "metadata": {},
      "outputs": [
        {
          "data": {
            "text/plain": [
              "127    1.229533e+05\n",
              "199    1.902765e+05\n",
              "623    2.954891e+05\n",
              "929    6.610050e+05\n",
              "196    1.303041e+06\n",
              "           ...     \n",
              "614    1.972127e+06\n",
              "400    3.549565e+05\n",
              "759    1.176463e+05\n",
              "398    1.922411e+04\n",
              "117    3.755314e+05\n",
              "Name: Size nm^3, Length: 900, dtype: float64"
            ]
          },
          "execution_count": 31,
          "metadata": {},
          "output_type": "execute_result"
        }
      ],
      "source": [
        "y_train\n"
      ]
    },
    {
      "cell_type": "code",
      "execution_count": 32,
      "metadata": {},
      "outputs": [
        {
          "data": {
            "text/plain": [
              "1      5.779610e+05\n",
              "244    5.345155e+05\n",
              "716    1.030643e+05\n",
              "448    1.195546e+04\n",
              "539    1.475625e+06\n",
              "           ...     \n",
              "98     5.894269e+05\n",
              "63     9.737511e+05\n",
              "766    1.815515e+05\n",
              "739    2.004573e+05\n",
              "982    1.964650e+05\n",
              "Name: Size nm^3, Length: 100, dtype: float64"
            ]
          },
          "execution_count": 32,
          "metadata": {},
          "output_type": "execute_result"
        }
      ],
      "source": [
        "y_test"
      ]
    },
    {
      "cell_type": "markdown",
      "metadata": {
        "id": "pthCUR4DTTXI"
      },
      "source": [
        "## Part 3. Perform a Linear Regression"
      ]
    },
    {
      "cell_type": "code",
      "execution_count": 33,
      "metadata": {
        "id": "tgaMs-O5TTXI"
      },
      "outputs": [
        {
          "name": "stderr",
          "output_type": "stream",
          "text": [
            "/home/ohimjosh/programming/CSC-44800/AS03/venv/lib/python3.8/site-packages/sklearn/base.py:450: UserWarning: X does not have valid feature names, but LinearRegression was fitted with feature names\n",
            "  warnings.warn(\n"
          ]
        },
        {
          "data": {
            "text/plain": [
              "array([204565.57391291])"
            ]
          },
          "execution_count": 33,
          "metadata": {},
          "output_type": "execute_result"
        }
      ],
      "source": [
        "# Use sklearn to train a model on the training set\n",
        "reg = LinearRegression().fit(X_train, y_train)\n",
        "# Create a sample datapoint and predict the output of that sample with the trained model\n",
        "\n",
        "reg.predict(np.array([[300,350]]))"
      ]
    },
    {
      "cell_type": "code",
      "execution_count": 34,
      "metadata": {},
      "outputs": [
        {
          "data": {
            "text/plain": [
              "0.8623946650596183"
            ]
          },
          "execution_count": 34,
          "metadata": {},
          "output_type": "execute_result"
        }
      ],
      "source": [
        "# Report on the score for that model, in your own words (markdown, not code) explain what the score means\n",
        "reg.score(X_train, y_train)"
      ]
    },
    {
      "cell_type": "markdown",
      "metadata": {},
      "source": [
        "The linear regression score of 0.8607117343929102 means that there is a 86.07% accuracy for our trained model. The goal is to get a score of 1.0 which is 100% accuracy of correctness."
      ]
    },
    {
      "cell_type": "code",
      "execution_count": 35,
      "metadata": {},
      "outputs": [
        {
          "data": {
            "text/plain": [
              "array([ 885.18909496, 1047.19833905])"
            ]
          },
          "execution_count": 35,
          "metadata": {},
          "output_type": "execute_result"
        }
      ],
      "source": [
        "# Extract the coefficents and intercept from the model and write an equation for your h(x) using LaTeX\n",
        "reg.coef_"
      ]
    },
    {
      "cell_type": "code",
      "execution_count": 36,
      "metadata": {},
      "outputs": [
        {
          "data": {
            "text/plain": [
              "-427510.57324368"
            ]
          },
          "execution_count": 36,
          "metadata": {},
          "output_type": "execute_result"
        }
      ],
      "source": [
        "reg.intercept_"
      ]
    },
    {
      "cell_type": "markdown",
      "metadata": {},
      "source": [
        "h(x) : y = mx + b\n",
        "\n",
        "h(x) : $θ_{0}$ + $θ_{1}$*$x_{1}$\n",
        "\n",
        "h(x) : 876.43826102 * $x_{1}$ + 1025.93060778 * $x_{2}$ - 416335.79172673094\n"
      ]
    },
    {
      "cell_type": "markdown",
      "metadata": {
        "id": "k7cAEF8aTTXJ"
      },
      "source": [
        "Sample equation: $E = mc^2$"
      ]
    },
    {
      "cell_type": "markdown",
      "metadata": {
        "id": "t0_xeZOXTTXK"
      },
      "source": [
        "## Part 4. Use Cross Validation"
      ]
    },
    {
      "cell_type": "code",
      "execution_count": 37,
      "metadata": {
        "id": "VPo9tTIeTTXK"
      },
      "outputs": [
        {
          "data": {
            "text/plain": [
              "array([0.83918826, 0.87051239, 0.85871066, 0.87202623, 0.84364641])"
            ]
          },
          "execution_count": 37,
          "metadata": {},
          "output_type": "execute_result"
        }
      ],
      "source": [
        "# Use the cross_val_score function to repeat your experiment across many shuffles of the data\n",
        "scores = cross_val_score(reg, X, y, cv= 5)\n",
        "scores\n",
        "\n",
        "# Report on their finding and their significance"
      ]
    },
    {
      "cell_type": "code",
      "execution_count": 38,
      "metadata": {},
      "outputs": [
        {
          "name": "stdout",
          "output_type": "stream",
          "text": [
            "0.86 accuracy with a standard deviation of 0.01\n"
          ]
        }
      ],
      "source": [
        "print(\"%0.2f accuracy with a standard deviation of %0.2f\" % (scores.mean(), scores.std()))"
      ]
    },
    {
      "cell_type": "markdown",
      "metadata": {},
      "source": [
        "Looking at the outputs of the cross validation scores they are all around 0.8. The standard deviation is 0.01 meaning that our data is consistent and does not move at drastic intervals. The accuracy of the score is 0.86 which is also good since it is close to 1.0."
      ]
    },
    {
      "cell_type": "markdown",
      "metadata": {
        "id": "S-Xgz8iLTTXK"
      },
      "source": [
        "## Part 5. Using Polynomial Regression"
      ]
    },
    {
      "cell_type": "code",
      "execution_count": 39,
      "metadata": {
        "id": "TIrM2aIyTTXL"
      },
      "outputs": [
        {
          "data": {
            "text/plain": [
              "array([[1.00000e+00, 4.69000e+02, 6.47000e+02, 2.19961e+05, 3.03443e+05,\n",
              "        4.18609e+05],\n",
              "       [1.00000e+00, 4.03000e+02, 6.94000e+02, 1.62409e+05, 2.79682e+05,\n",
              "        4.81636e+05],\n",
              "       [1.00000e+00, 3.02000e+02, 9.75000e+02, 9.12040e+04, 2.94450e+05,\n",
              "        9.50625e+05],\n",
              "       ...,\n",
              "       [1.00000e+00, 7.91000e+02, 2.13000e+02, 6.25681e+05, 1.68483e+05,\n",
              "        4.53690e+04],\n",
              "       [1.00000e+00, 7.69000e+02, 5.53000e+02, 5.91361e+05, 4.25257e+05,\n",
              "        3.05809e+05],\n",
              "       [1.00000e+00, 9.19000e+02, 4.52000e+02, 8.44561e+05, 4.15388e+05,\n",
              "        2.04304e+05]])"
            ]
          },
          "execution_count": 39,
          "metadata": {},
          "output_type": "execute_result"
        }
      ],
      "source": [
        "# Using the PolynomialFeatures library perform another regression on an augmented dataset of degree 2\n",
        "poly = PolynomialFeatures(degree= 2)\n",
        "poly.fit_transform(X)\n",
        "# Report on the metrics and output the resultant equation as you did in Part 3."
      ]
    },
    {
      "cell_type": "code",
      "execution_count": 40,
      "metadata": {},
      "outputs": [
        {
          "data": {
            "text/plain": [
              "array([ 1.52531658e-05,  1.20000000e+01, -9.63598896e-08,  1.02708952e-11,\n",
              "        2.00000000e+00,  2.85714287e-02])"
            ]
          },
          "execution_count": 40,
          "metadata": {},
          "output_type": "execute_result"
        }
      ],
      "source": [
        "model = Pipeline([('poly', PolynomialFeatures(degree=2)),\n",
        "                  ('linear', LinearRegression(fit_intercept=False))])\n",
        "model = model.fit(X_train, y_train)\n",
        "model.named_steps['linear'].coef_"
      ]
    },
    {
      "cell_type": "code",
      "execution_count": 41,
      "metadata": {},
      "outputs": [
        {
          "name": "stderr",
          "output_type": "stream",
          "text": [
            "/home/ohimjosh/programming/CSC-44800/AS03/venv/lib/python3.8/site-packages/sklearn/base.py:450: UserWarning: X does not have valid feature names, but PolynomialFeatures was fitted with feature names\n",
            "  warnings.warn(\n"
          ]
        },
        {
          "data": {
            "text/plain": [
              "array([217099.99999183])"
            ]
          },
          "execution_count": 41,
          "metadata": {},
          "output_type": "execute_result"
        }
      ],
      "source": [
        "model.predict(np.array([[300,350]]))"
      ]
    },
    {
      "cell_type": "code",
      "execution_count": 42,
      "metadata": {},
      "outputs": [
        {
          "data": {
            "text/plain": [
              "1.0"
            ]
          },
          "execution_count": 42,
          "metadata": {},
          "output_type": "execute_result"
        }
      ],
      "source": [
        "model.score(X_train, y_train)"
      ]
    },
    {
      "cell_type": "markdown",
      "metadata": {},
      "source": [
        "1.0 is the score that we are looking for which shows 100% accuracy. "
      ]
    },
    {
      "cell_type": "code",
      "execution_count": 43,
      "metadata": {},
      "outputs": [
        {
          "data": {
            "text/plain": [
              "0.0"
            ]
          },
          "execution_count": 43,
          "metadata": {},
          "output_type": "execute_result"
        }
      ],
      "source": [
        "model.named_steps['linear'].intercept_"
      ]
    },
    {
      "cell_type": "markdown",
      "metadata": {},
      "source": [
        "h(x) : 1.17188396e-05 * $x_{1}$ + 1.20000000e+01 * $x_{2}$ + -1.13958325e-07 * $x_{3}$ + -3.90745214e-11 * $x_{4}$ + 2.00000000e+00 * $x_{5}$ + 2.85714287e-02 * $x_{6}$ + 0"
      ]
    }
  ],
  "metadata": {
    "colab": {
      "name": "a3_sample_notebook.ipynb",
      "provenance": []
    },
    "kernelspec": {
      "display_name": "Python 3",
      "language": "python",
      "name": "python3"
    },
    "language_info": {
      "codemirror_mode": {
        "name": "ipython",
        "version": 3
      },
      "file_extension": ".py",
      "mimetype": "text/x-python",
      "name": "python",
      "nbconvert_exporter": "python",
      "pygments_lexer": "ipython3",
      "version": "3.8.10"
    }
  },
  "nbformat": 4,
  "nbformat_minor": 0
}
