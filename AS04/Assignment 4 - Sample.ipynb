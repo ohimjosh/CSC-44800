{
  "cells": [
    {
      "cell_type": "markdown",
      "source": [
        "\n",
        "[![Open In Colab](https://colab.research.google.com/assets/colab-badge.svg)](https://colab.research.google.com/github/ohimjosh/CSC-44800/blob/main/AS04/Assignment%204%20-%20Sample.ipynb)\n",
        "\n",
        "\n"
      ],
      "metadata": {
        "id": "e2MatYfYALn-"
      }
    },
    {
      "cell_type": "code",
      "execution_count": null,
      "metadata": {
        "id": "S8PKiVJaL_AW"
      },
      "outputs": [],
      "source": [
        "# Imports and pip installations (if needed)\n",
        "import pandas as pd\n",
        "import numpy as np\n",
        "from sklearn import datasets\n",
        "from sklearn.datasets import load_iris\n",
        "from sklearn.model_selection import train_test_split\n",
        "from sklearn.linear_model import LogisticRegression\n",
        "from sklearn import svm \n",
        "from sklearn.neural_network import MLPClassifier\n",
        "from sklearn.neighbors import KNeighborsClassifier"
      ]
    },
    {
      "cell_type": "markdown",
      "metadata": {
        "id": "A05Q5B0_NUX9"
      },
      "source": [
        "# Part 1: Load the dataset"
      ]
    },
    {
      "cell_type": "code",
      "execution_count": null,
      "metadata": {
        "colab": {
          "base_uri": "https://localhost:8080/",
          "height": 735
        },
        "id": "YZ4MUsbXNZ0P",
        "outputId": "77e7a628-792f-4d28-b7b1-e06f4db3efd3"
      },
      "outputs": [
        {
          "data": {
            "text/html": [
              "<div>\n",
              "<style scoped>\n",
              "    .dataframe tbody tr th:only-of-type {\n",
              "        vertical-align: middle;\n",
              "    }\n",
              "\n",
              "    .dataframe tbody tr th {\n",
              "        vertical-align: top;\n",
              "    }\n",
              "\n",
              "    .dataframe thead th {\n",
              "        text-align: right;\n",
              "    }\n",
              "</style>\n",
              "<table border=\"1\" class=\"dataframe\">\n",
              "  <thead>\n",
              "    <tr style=\"text-align: right;\">\n",
              "      <th></th>\n",
              "      <th>sepal length (cm)</th>\n",
              "      <th>sepal width (cm)</th>\n",
              "      <th>petal length (cm)</th>\n",
              "      <th>petal width (cm)</th>\n",
              "    </tr>\n",
              "  </thead>\n",
              "  <tbody>\n",
              "    <tr>\n",
              "      <th>0</th>\n",
              "      <td>5.1</td>\n",
              "      <td>3.5</td>\n",
              "      <td>1.4</td>\n",
              "      <td>0.2</td>\n",
              "    </tr>\n",
              "    <tr>\n",
              "      <th>1</th>\n",
              "      <td>4.9</td>\n",
              "      <td>3.0</td>\n",
              "      <td>1.4</td>\n",
              "      <td>0.2</td>\n",
              "    </tr>\n",
              "    <tr>\n",
              "      <th>2</th>\n",
              "      <td>4.7</td>\n",
              "      <td>3.2</td>\n",
              "      <td>1.3</td>\n",
              "      <td>0.2</td>\n",
              "    </tr>\n",
              "    <tr>\n",
              "      <th>3</th>\n",
              "      <td>4.6</td>\n",
              "      <td>3.1</td>\n",
              "      <td>1.5</td>\n",
              "      <td>0.2</td>\n",
              "    </tr>\n",
              "    <tr>\n",
              "      <th>4</th>\n",
              "      <td>5.0</td>\n",
              "      <td>3.6</td>\n",
              "      <td>1.4</td>\n",
              "      <td>0.2</td>\n",
              "    </tr>\n",
              "    <tr>\n",
              "      <th>5</th>\n",
              "      <td>5.4</td>\n",
              "      <td>3.9</td>\n",
              "      <td>1.7</td>\n",
              "      <td>0.4</td>\n",
              "    </tr>\n",
              "    <tr>\n",
              "      <th>6</th>\n",
              "      <td>4.6</td>\n",
              "      <td>3.4</td>\n",
              "      <td>1.4</td>\n",
              "      <td>0.3</td>\n",
              "    </tr>\n",
              "    <tr>\n",
              "      <th>7</th>\n",
              "      <td>5.0</td>\n",
              "      <td>3.4</td>\n",
              "      <td>1.5</td>\n",
              "      <td>0.2</td>\n",
              "    </tr>\n",
              "    <tr>\n",
              "      <th>8</th>\n",
              "      <td>4.4</td>\n",
              "      <td>2.9</td>\n",
              "      <td>1.4</td>\n",
              "      <td>0.2</td>\n",
              "    </tr>\n",
              "    <tr>\n",
              "      <th>9</th>\n",
              "      <td>4.9</td>\n",
              "      <td>3.1</td>\n",
              "      <td>1.5</td>\n",
              "      <td>0.1</td>\n",
              "    </tr>\n",
              "    <tr>\n",
              "      <th>10</th>\n",
              "      <td>5.4</td>\n",
              "      <td>3.7</td>\n",
              "      <td>1.5</td>\n",
              "      <td>0.2</td>\n",
              "    </tr>\n",
              "    <tr>\n",
              "      <th>11</th>\n",
              "      <td>4.8</td>\n",
              "      <td>3.4</td>\n",
              "      <td>1.6</td>\n",
              "      <td>0.2</td>\n",
              "    </tr>\n",
              "    <tr>\n",
              "      <th>12</th>\n",
              "      <td>4.8</td>\n",
              "      <td>3.0</td>\n",
              "      <td>1.4</td>\n",
              "      <td>0.1</td>\n",
              "    </tr>\n",
              "    <tr>\n",
              "      <th>13</th>\n",
              "      <td>4.3</td>\n",
              "      <td>3.0</td>\n",
              "      <td>1.1</td>\n",
              "      <td>0.1</td>\n",
              "    </tr>\n",
              "    <tr>\n",
              "      <th>14</th>\n",
              "      <td>5.8</td>\n",
              "      <td>4.0</td>\n",
              "      <td>1.2</td>\n",
              "      <td>0.2</td>\n",
              "    </tr>\n",
              "  </tbody>\n",
              "</table>\n",
              "</div>"
            ],
            "text/plain": [
              "    sepal length (cm)  sepal width (cm)  petal length (cm)  petal width (cm)\n",
              "0                 5.1               3.5                1.4               0.2\n",
              "1                 4.9               3.0                1.4               0.2\n",
              "2                 4.7               3.2                1.3               0.2\n",
              "3                 4.6               3.1                1.5               0.2\n",
              "4                 5.0               3.6                1.4               0.2\n",
              "5                 5.4               3.9                1.7               0.4\n",
              "6                 4.6               3.4                1.4               0.3\n",
              "7                 5.0               3.4                1.5               0.2\n",
              "8                 4.4               2.9                1.4               0.2\n",
              "9                 4.9               3.1                1.5               0.1\n",
              "10                5.4               3.7                1.5               0.2\n",
              "11                4.8               3.4                1.6               0.2\n",
              "12                4.8               3.0                1.4               0.1\n",
              "13                4.3               3.0                1.1               0.1\n",
              "14                5.8               4.0                1.2               0.2"
            ]
          },
          "execution_count": 240,
          "metadata": {},
          "output_type": "execute_result"
        }
      ],
      "source": [
        "# Load the dataset (load remotely, not locally)\n",
        "iris = datasets.load_iris()\n",
        "data = pd.DataFrame(iris.data, columns= iris.feature_names)\n",
        "# Output the first 15 rows of the data\n",
        "data.head(15)\n",
        "# Display a summary of the table information (number of datapoints, etc.)"
      ]
    },
    {
      "cell_type": "code",
      "execution_count": null,
      "metadata": {
        "id": "TPleu9-3AEtV",
        "outputId": "86bc2c8d-f854-49e9-dac1-6c0102154995"
      },
      "outputs": [
        {
          "name": "stdout",
          "output_type": "stream",
          "text": [
            "<class 'pandas.core.frame.DataFrame'>\n",
            "RangeIndex: 150 entries, 0 to 149\n",
            "Data columns (total 4 columns):\n",
            " #   Column             Non-Null Count  Dtype  \n",
            "---  ------             --------------  -----  \n",
            " 0   sepal length (cm)  150 non-null    float64\n",
            " 1   sepal width (cm)   150 non-null    float64\n",
            " 2   petal length (cm)  150 non-null    float64\n",
            " 3   petal width (cm)   150 non-null    float64\n",
            "dtypes: float64(4)\n",
            "memory usage: 4.8 KB\n"
          ]
        }
      ],
      "source": [
        "data.info()"
      ]
    },
    {
      "cell_type": "code",
      "execution_count": null,
      "metadata": {
        "id": "E_hKGGxfAEtW",
        "outputId": "0a0c9a40-21ce-4438-e3de-0fccefbcaaa9"
      },
      "outputs": [
        {
          "data": {
            "text/html": [
              "<div>\n",
              "<style scoped>\n",
              "    .dataframe tbody tr th:only-of-type {\n",
              "        vertical-align: middle;\n",
              "    }\n",
              "\n",
              "    .dataframe tbody tr th {\n",
              "        vertical-align: top;\n",
              "    }\n",
              "\n",
              "    .dataframe thead th {\n",
              "        text-align: right;\n",
              "    }\n",
              "</style>\n",
              "<table border=\"1\" class=\"dataframe\">\n",
              "  <thead>\n",
              "    <tr style=\"text-align: right;\">\n",
              "      <th></th>\n",
              "      <th>sepal length (cm)</th>\n",
              "      <th>sepal width (cm)</th>\n",
              "      <th>petal length (cm)</th>\n",
              "      <th>petal width (cm)</th>\n",
              "    </tr>\n",
              "  </thead>\n",
              "  <tbody>\n",
              "    <tr>\n",
              "      <th>count</th>\n",
              "      <td>150.000000</td>\n",
              "      <td>150.000000</td>\n",
              "      <td>150.000000</td>\n",
              "      <td>150.000000</td>\n",
              "    </tr>\n",
              "    <tr>\n",
              "      <th>mean</th>\n",
              "      <td>5.843333</td>\n",
              "      <td>3.057333</td>\n",
              "      <td>3.758000</td>\n",
              "      <td>1.199333</td>\n",
              "    </tr>\n",
              "    <tr>\n",
              "      <th>std</th>\n",
              "      <td>0.828066</td>\n",
              "      <td>0.435866</td>\n",
              "      <td>1.765298</td>\n",
              "      <td>0.762238</td>\n",
              "    </tr>\n",
              "    <tr>\n",
              "      <th>min</th>\n",
              "      <td>4.300000</td>\n",
              "      <td>2.000000</td>\n",
              "      <td>1.000000</td>\n",
              "      <td>0.100000</td>\n",
              "    </tr>\n",
              "    <tr>\n",
              "      <th>25%</th>\n",
              "      <td>5.100000</td>\n",
              "      <td>2.800000</td>\n",
              "      <td>1.600000</td>\n",
              "      <td>0.300000</td>\n",
              "    </tr>\n",
              "    <tr>\n",
              "      <th>50%</th>\n",
              "      <td>5.800000</td>\n",
              "      <td>3.000000</td>\n",
              "      <td>4.350000</td>\n",
              "      <td>1.300000</td>\n",
              "    </tr>\n",
              "    <tr>\n",
              "      <th>75%</th>\n",
              "      <td>6.400000</td>\n",
              "      <td>3.300000</td>\n",
              "      <td>5.100000</td>\n",
              "      <td>1.800000</td>\n",
              "    </tr>\n",
              "    <tr>\n",
              "      <th>max</th>\n",
              "      <td>7.900000</td>\n",
              "      <td>4.400000</td>\n",
              "      <td>6.900000</td>\n",
              "      <td>2.500000</td>\n",
              "    </tr>\n",
              "  </tbody>\n",
              "</table>\n",
              "</div>"
            ],
            "text/plain": [
              "       sepal length (cm)  sepal width (cm)  petal length (cm)  \\\n",
              "count         150.000000        150.000000         150.000000   \n",
              "mean            5.843333          3.057333           3.758000   \n",
              "std             0.828066          0.435866           1.765298   \n",
              "min             4.300000          2.000000           1.000000   \n",
              "25%             5.100000          2.800000           1.600000   \n",
              "50%             5.800000          3.000000           4.350000   \n",
              "75%             6.400000          3.300000           5.100000   \n",
              "max             7.900000          4.400000           6.900000   \n",
              "\n",
              "       petal width (cm)  \n",
              "count        150.000000  \n",
              "mean           1.199333  \n",
              "std            0.762238  \n",
              "min            0.100000  \n",
              "25%            0.300000  \n",
              "50%            1.300000  \n",
              "75%            1.800000  \n",
              "max            2.500000  "
            ]
          },
          "execution_count": 242,
          "metadata": {},
          "output_type": "execute_result"
        }
      ],
      "source": [
        "data.describe()"
      ]
    },
    {
      "cell_type": "markdown",
      "metadata": {
        "id": "wRMtsJKBaxWu"
      },
      "source": [
        "## About the dataset\n",
        "Explain what the data is in your own words. What are your features and labels? What is the mapping of your labels to the actual classes?\n",
        "\n",
        "The Iris flower data set contains 150 entries with 50 samples each of 3 flower species. The 3 flower species are the labels in the data which are Iris Setosa, Iris Virginica and Iris versicolor. Also included are the four features sepal length, sepal width, petal length and petal width, all measured in centimeters. The labels are mapped to the actual classes with 0 as Iris Setosa, 1 as Iris Virginica and 2 as Iris versicolor.\n"
      ]
    },
    {
      "cell_type": "markdown",
      "metadata": {
        "id": "DhKaIrZKNaHg"
      },
      "source": [
        "# Part 2: Split the dataset into train and test"
      ]
    },
    {
      "cell_type": "code",
      "execution_count": null,
      "metadata": {
        "id": "OrgogB62NcOi"
      },
      "outputs": [],
      "source": [
        "# Take the dataset and split it into our features (X) and label (y)\n",
        "X = iris.data   #features\n",
        "y = iris.target #label\n",
        "# Use sklearn to split the features and labels into a training/test set. (90% train, 10% test)\n",
        "X_train, X_test, y_train, y_test = train_test_split(X, y, train_size= 0.9, test_size=0.1)"
      ]
    },
    {
      "cell_type": "code",
      "execution_count": null,
      "metadata": {
        "id": "Re9XsT3KAEtY",
        "outputId": "39af7be1-e25e-49f6-a0c4-e5456db30df4"
      },
      "outputs": [
        {
          "data": {
            "text/plain": [
              "array([[5.1, 3.5, 1.4, 0.2],\n",
              "       [4.9, 3. , 1.4, 0.2],\n",
              "       [4.7, 3.2, 1.3, 0.2],\n",
              "       [4.6, 3.1, 1.5, 0.2],\n",
              "       [5. , 3.6, 1.4, 0.2],\n",
              "       [5.4, 3.9, 1.7, 0.4],\n",
              "       [4.6, 3.4, 1.4, 0.3],\n",
              "       [5. , 3.4, 1.5, 0.2],\n",
              "       [4.4, 2.9, 1.4, 0.2],\n",
              "       [4.9, 3.1, 1.5, 0.1],\n",
              "       [5.4, 3.7, 1.5, 0.2],\n",
              "       [4.8, 3.4, 1.6, 0.2],\n",
              "       [4.8, 3. , 1.4, 0.1],\n",
              "       [4.3, 3. , 1.1, 0.1],\n",
              "       [5.8, 4. , 1.2, 0.2],\n",
              "       [5.7, 4.4, 1.5, 0.4],\n",
              "       [5.4, 3.9, 1.3, 0.4],\n",
              "       [5.1, 3.5, 1.4, 0.3],\n",
              "       [5.7, 3.8, 1.7, 0.3],\n",
              "       [5.1, 3.8, 1.5, 0.3],\n",
              "       [5.4, 3.4, 1.7, 0.2],\n",
              "       [5.1, 3.7, 1.5, 0.4],\n",
              "       [4.6, 3.6, 1. , 0.2],\n",
              "       [5.1, 3.3, 1.7, 0.5],\n",
              "       [4.8, 3.4, 1.9, 0.2],\n",
              "       [5. , 3. , 1.6, 0.2],\n",
              "       [5. , 3.4, 1.6, 0.4],\n",
              "       [5.2, 3.5, 1.5, 0.2],\n",
              "       [5.2, 3.4, 1.4, 0.2],\n",
              "       [4.7, 3.2, 1.6, 0.2],\n",
              "       [4.8, 3.1, 1.6, 0.2],\n",
              "       [5.4, 3.4, 1.5, 0.4],\n",
              "       [5.2, 4.1, 1.5, 0.1],\n",
              "       [5.5, 4.2, 1.4, 0.2],\n",
              "       [4.9, 3.1, 1.5, 0.2],\n",
              "       [5. , 3.2, 1.2, 0.2],\n",
              "       [5.5, 3.5, 1.3, 0.2],\n",
              "       [4.9, 3.6, 1.4, 0.1],\n",
              "       [4.4, 3. , 1.3, 0.2],\n",
              "       [5.1, 3.4, 1.5, 0.2],\n",
              "       [5. , 3.5, 1.3, 0.3],\n",
              "       [4.5, 2.3, 1.3, 0.3],\n",
              "       [4.4, 3.2, 1.3, 0.2],\n",
              "       [5. , 3.5, 1.6, 0.6],\n",
              "       [5.1, 3.8, 1.9, 0.4],\n",
              "       [4.8, 3. , 1.4, 0.3],\n",
              "       [5.1, 3.8, 1.6, 0.2],\n",
              "       [4.6, 3.2, 1.4, 0.2],\n",
              "       [5.3, 3.7, 1.5, 0.2],\n",
              "       [5. , 3.3, 1.4, 0.2],\n",
              "       [7. , 3.2, 4.7, 1.4],\n",
              "       [6.4, 3.2, 4.5, 1.5],\n",
              "       [6.9, 3.1, 4.9, 1.5],\n",
              "       [5.5, 2.3, 4. , 1.3],\n",
              "       [6.5, 2.8, 4.6, 1.5],\n",
              "       [5.7, 2.8, 4.5, 1.3],\n",
              "       [6.3, 3.3, 4.7, 1.6],\n",
              "       [4.9, 2.4, 3.3, 1. ],\n",
              "       [6.6, 2.9, 4.6, 1.3],\n",
              "       [5.2, 2.7, 3.9, 1.4],\n",
              "       [5. , 2. , 3.5, 1. ],\n",
              "       [5.9, 3. , 4.2, 1.5],\n",
              "       [6. , 2.2, 4. , 1. ],\n",
              "       [6.1, 2.9, 4.7, 1.4],\n",
              "       [5.6, 2.9, 3.6, 1.3],\n",
              "       [6.7, 3.1, 4.4, 1.4],\n",
              "       [5.6, 3. , 4.5, 1.5],\n",
              "       [5.8, 2.7, 4.1, 1. ],\n",
              "       [6.2, 2.2, 4.5, 1.5],\n",
              "       [5.6, 2.5, 3.9, 1.1],\n",
              "       [5.9, 3.2, 4.8, 1.8],\n",
              "       [6.1, 2.8, 4. , 1.3],\n",
              "       [6.3, 2.5, 4.9, 1.5],\n",
              "       [6.1, 2.8, 4.7, 1.2],\n",
              "       [6.4, 2.9, 4.3, 1.3],\n",
              "       [6.6, 3. , 4.4, 1.4],\n",
              "       [6.8, 2.8, 4.8, 1.4],\n",
              "       [6.7, 3. , 5. , 1.7],\n",
              "       [6. , 2.9, 4.5, 1.5],\n",
              "       [5.7, 2.6, 3.5, 1. ],\n",
              "       [5.5, 2.4, 3.8, 1.1],\n",
              "       [5.5, 2.4, 3.7, 1. ],\n",
              "       [5.8, 2.7, 3.9, 1.2],\n",
              "       [6. , 2.7, 5.1, 1.6],\n",
              "       [5.4, 3. , 4.5, 1.5],\n",
              "       [6. , 3.4, 4.5, 1.6],\n",
              "       [6.7, 3.1, 4.7, 1.5],\n",
              "       [6.3, 2.3, 4.4, 1.3],\n",
              "       [5.6, 3. , 4.1, 1.3],\n",
              "       [5.5, 2.5, 4. , 1.3],\n",
              "       [5.5, 2.6, 4.4, 1.2],\n",
              "       [6.1, 3. , 4.6, 1.4],\n",
              "       [5.8, 2.6, 4. , 1.2],\n",
              "       [5. , 2.3, 3.3, 1. ],\n",
              "       [5.6, 2.7, 4.2, 1.3],\n",
              "       [5.7, 3. , 4.2, 1.2],\n",
              "       [5.7, 2.9, 4.2, 1.3],\n",
              "       [6.2, 2.9, 4.3, 1.3],\n",
              "       [5.1, 2.5, 3. , 1.1],\n",
              "       [5.7, 2.8, 4.1, 1.3],\n",
              "       [6.3, 3.3, 6. , 2.5],\n",
              "       [5.8, 2.7, 5.1, 1.9],\n",
              "       [7.1, 3. , 5.9, 2.1],\n",
              "       [6.3, 2.9, 5.6, 1.8],\n",
              "       [6.5, 3. , 5.8, 2.2],\n",
              "       [7.6, 3. , 6.6, 2.1],\n",
              "       [4.9, 2.5, 4.5, 1.7],\n",
              "       [7.3, 2.9, 6.3, 1.8],\n",
              "       [6.7, 2.5, 5.8, 1.8],\n",
              "       [7.2, 3.6, 6.1, 2.5],\n",
              "       [6.5, 3.2, 5.1, 2. ],\n",
              "       [6.4, 2.7, 5.3, 1.9],\n",
              "       [6.8, 3. , 5.5, 2.1],\n",
              "       [5.7, 2.5, 5. , 2. ],\n",
              "       [5.8, 2.8, 5.1, 2.4],\n",
              "       [6.4, 3.2, 5.3, 2.3],\n",
              "       [6.5, 3. , 5.5, 1.8],\n",
              "       [7.7, 3.8, 6.7, 2.2],\n",
              "       [7.7, 2.6, 6.9, 2.3],\n",
              "       [6. , 2.2, 5. , 1.5],\n",
              "       [6.9, 3.2, 5.7, 2.3],\n",
              "       [5.6, 2.8, 4.9, 2. ],\n",
              "       [7.7, 2.8, 6.7, 2. ],\n",
              "       [6.3, 2.7, 4.9, 1.8],\n",
              "       [6.7, 3.3, 5.7, 2.1],\n",
              "       [7.2, 3.2, 6. , 1.8],\n",
              "       [6.2, 2.8, 4.8, 1.8],\n",
              "       [6.1, 3. , 4.9, 1.8],\n",
              "       [6.4, 2.8, 5.6, 2.1],\n",
              "       [7.2, 3. , 5.8, 1.6],\n",
              "       [7.4, 2.8, 6.1, 1.9],\n",
              "       [7.9, 3.8, 6.4, 2. ],\n",
              "       [6.4, 2.8, 5.6, 2.2],\n",
              "       [6.3, 2.8, 5.1, 1.5],\n",
              "       [6.1, 2.6, 5.6, 1.4],\n",
              "       [7.7, 3. , 6.1, 2.3],\n",
              "       [6.3, 3.4, 5.6, 2.4],\n",
              "       [6.4, 3.1, 5.5, 1.8],\n",
              "       [6. , 3. , 4.8, 1.8],\n",
              "       [6.9, 3.1, 5.4, 2.1],\n",
              "       [6.7, 3.1, 5.6, 2.4],\n",
              "       [6.9, 3.1, 5.1, 2.3],\n",
              "       [5.8, 2.7, 5.1, 1.9],\n",
              "       [6.8, 3.2, 5.9, 2.3],\n",
              "       [6.7, 3.3, 5.7, 2.5],\n",
              "       [6.7, 3. , 5.2, 2.3],\n",
              "       [6.3, 2.5, 5. , 1.9],\n",
              "       [6.5, 3. , 5.2, 2. ],\n",
              "       [6.2, 3.4, 5.4, 2.3],\n",
              "       [5.9, 3. , 5.1, 1.8]])"
            ]
          },
          "execution_count": 244,
          "metadata": {},
          "output_type": "execute_result"
        }
      ],
      "source": [
        "X"
      ]
    },
    {
      "cell_type": "code",
      "execution_count": null,
      "metadata": {
        "id": "_nivtWiYAEtZ",
        "outputId": "5314a306-a3e0-4b32-977f-a8730b52298b"
      },
      "outputs": [
        {
          "data": {
            "text/plain": [
              "array([[4.4, 3.2, 1.3, 0.2],\n",
              "       [5. , 3. , 1.6, 0.2],\n",
              "       [5.1, 3.5, 1.4, 0.2],\n",
              "       [6.3, 3.3, 6. , 2.5],\n",
              "       [5.5, 2.5, 4. , 1.3],\n",
              "       [4.9, 3.6, 1.4, 0.1],\n",
              "       [7.7, 2.8, 6.7, 2. ],\n",
              "       [6.5, 3. , 5.5, 1.8],\n",
              "       [5.5, 2.4, 3.8, 1.1],\n",
              "       [6.9, 3.1, 5.4, 2.1],\n",
              "       [6.3, 2.5, 5. , 1.9],\n",
              "       [7.3, 2.9, 6.3, 1.8],\n",
              "       [6.4, 2.8, 5.6, 2.1],\n",
              "       [4.8, 3. , 1.4, 0.1],\n",
              "       [6.7, 3.1, 5.6, 2.4],\n",
              "       [7. , 3.2, 4.7, 1.4],\n",
              "       [5.1, 3.7, 1.5, 0.4],\n",
              "       [5.6, 2.7, 4.2, 1.3],\n",
              "       [5.1, 3.4, 1.5, 0.2],\n",
              "       [6.1, 3. , 4.6, 1.4],\n",
              "       [5.7, 3.8, 1.7, 0.3],\n",
              "       [5.2, 3.4, 1.4, 0.2],\n",
              "       [5. , 3.5, 1.6, 0.6],\n",
              "       [7.9, 3.8, 6.4, 2. ],\n",
              "       [5.6, 2.5, 3.9, 1.1],\n",
              "       [6. , 3.4, 4.5, 1.6],\n",
              "       [6.7, 2.5, 5.8, 1.8],\n",
              "       [4.9, 3.1, 1.5, 0.1],\n",
              "       [5.4, 3.4, 1.5, 0.4],\n",
              "       [5. , 3.6, 1.4, 0.2],\n",
              "       [5.9, 3. , 5.1, 1.8],\n",
              "       [6.4, 3.2, 5.3, 2.3],\n",
              "       [4.6, 3.6, 1. , 0.2],\n",
              "       [4.6, 3.4, 1.4, 0.3],\n",
              "       [5.8, 2.7, 3.9, 1.2],\n",
              "       [7.2, 3.2, 6. , 1.8],\n",
              "       [5.5, 2.6, 4.4, 1.2],\n",
              "       [5. , 2.3, 3.3, 1. ],\n",
              "       [6.4, 3.1, 5.5, 1.8],\n",
              "       [6.2, 2.8, 4.8, 1.8],\n",
              "       [5.5, 2.4, 3.7, 1. ],\n",
              "       [5.7, 2.8, 4.1, 1.3],\n",
              "       [4.4, 2.9, 1.4, 0.2],\n",
              "       [5.1, 2.5, 3. , 1.1],\n",
              "       [5.6, 3. , 4.5, 1.5],\n",
              "       [5.1, 3.5, 1.4, 0.3],\n",
              "       [5.7, 2.6, 3.5, 1. ],\n",
              "       [6.9, 3.2, 5.7, 2.3],\n",
              "       [5.4, 3.9, 1.7, 0.4],\n",
              "       [6.3, 3.4, 5.6, 2.4],\n",
              "       [6.3, 2.7, 4.9, 1.8],\n",
              "       [5.7, 2.8, 4.5, 1.3],\n",
              "       [5.7, 3. , 4.2, 1.2],\n",
              "       [6.3, 2.9, 5.6, 1.8],\n",
              "       [5. , 3.4, 1.5, 0.2],\n",
              "       [6.9, 3.1, 4.9, 1.5],\n",
              "       [6.5, 3. , 5.8, 2.2],\n",
              "       [4.5, 2.3, 1.3, 0.3],\n",
              "       [5.2, 3.5, 1.5, 0.2],\n",
              "       [5.4, 3.4, 1.7, 0.2],\n",
              "       [5.5, 2.3, 4. , 1.3],\n",
              "       [6.7, 3. , 5.2, 2.3],\n",
              "       [4.8, 3.1, 1.6, 0.2],\n",
              "       [5.1, 3.3, 1.7, 0.5],\n",
              "       [5.5, 4.2, 1.4, 0.2],\n",
              "       [6.5, 3.2, 5.1, 2. ],\n",
              "       [4.7, 3.2, 1.6, 0.2],\n",
              "       [6.4, 3.2, 4.5, 1.5],\n",
              "       [4.4, 3. , 1.3, 0.2],\n",
              "       [4.9, 3.1, 1.5, 0.2],\n",
              "       [4.9, 2.4, 3.3, 1. ],\n",
              "       [6.5, 2.8, 4.6, 1.5],\n",
              "       [6.6, 3. , 4.4, 1.4],\n",
              "       [6. , 2.9, 4.5, 1.5],\n",
              "       [5.4, 3.7, 1.5, 0.2],\n",
              "       [5.2, 2.7, 3.9, 1.4],\n",
              "       [6.2, 2.2, 4.5, 1.5],\n",
              "       [6.8, 3.2, 5.9, 2.3],\n",
              "       [5.9, 3. , 4.2, 1.5],\n",
              "       [4.9, 2.5, 4.5, 1.7],\n",
              "       [5.8, 2.8, 5.1, 2.4],\n",
              "       [6.2, 3.4, 5.4, 2.3],\n",
              "       [6.7, 3. , 5. , 1.7],\n",
              "       [6. , 3. , 4.8, 1.8],\n",
              "       [4.8, 3.4, 1.9, 0.2],\n",
              "       [4.8, 3. , 1.4, 0.3],\n",
              "       [5.1, 3.8, 1.5, 0.3],\n",
              "       [4.9, 3. , 1.4, 0.2],\n",
              "       [4.3, 3. , 1.1, 0.1],\n",
              "       [5.7, 2.5, 5. , 2. ],\n",
              "       [6.6, 2.9, 4.6, 1.3],\n",
              "       [5.4, 3.9, 1.3, 0.4],\n",
              "       [5.4, 3. , 4.5, 1.5],\n",
              "       [5.8, 2.7, 5.1, 1.9],\n",
              "       [5.5, 3.5, 1.3, 0.2],\n",
              "       [5.6, 2.8, 4.9, 2. ],\n",
              "       [5.8, 2.6, 4. , 1.2],\n",
              "       [6.3, 2.5, 4.9, 1.5],\n",
              "       [4.6, 3.1, 1.5, 0.2],\n",
              "       [6.1, 2.9, 4.7, 1.4],\n",
              "       [6.8, 2.8, 4.8, 1.4],\n",
              "       [6.7, 3.3, 5.7, 2.1],\n",
              "       [5. , 3.5, 1.3, 0.3],\n",
              "       [7.1, 3. , 5.9, 2.1],\n",
              "       [6.1, 2.6, 5.6, 1.4],\n",
              "       [4.6, 3.2, 1.4, 0.2],\n",
              "       [6.5, 3. , 5.2, 2. ],\n",
              "       [5.3, 3.7, 1.5, 0.2],\n",
              "       [6.4, 2.9, 4.3, 1.3],\n",
              "       [5.9, 3.2, 4.8, 1.8],\n",
              "       [7.7, 3.8, 6.7, 2.2],\n",
              "       [6. , 2.7, 5.1, 1.6],\n",
              "       [6.7, 3.3, 5.7, 2.5],\n",
              "       [5.8, 2.7, 4.1, 1. ],\n",
              "       [5.7, 2.9, 4.2, 1.3],\n",
              "       [5.8, 4. , 1.2, 0.2],\n",
              "       [4.7, 3.2, 1.3, 0.2],\n",
              "       [5. , 3.2, 1.2, 0.2],\n",
              "       [6.4, 2.8, 5.6, 2.2],\n",
              "       [6.3, 2.8, 5.1, 1.5],\n",
              "       [7.2, 3. , 5.8, 1.6],\n",
              "       [4.8, 3.4, 1.6, 0.2],\n",
              "       [6.7, 3.1, 4.7, 1.5],\n",
              "       [6.2, 2.9, 4.3, 1.3],\n",
              "       [5. , 2. , 3.5, 1. ],\n",
              "       [7.7, 2.6, 6.9, 2.3],\n",
              "       [6.4, 2.7, 5.3, 1.9],\n",
              "       [6.9, 3.1, 5.1, 2.3],\n",
              "       [6.8, 3. , 5.5, 2.1],\n",
              "       [6. , 2.2, 4. , 1. ],\n",
              "       [5. , 3.4, 1.6, 0.4],\n",
              "       [5.6, 3. , 4.1, 1.3],\n",
              "       [5.1, 3.8, 1.6, 0.2],\n",
              "       [6.7, 3.1, 4.4, 1.4],\n",
              "       [6.1, 3. , 4.9, 1.8]])"
            ]
          },
          "execution_count": 245,
          "metadata": {},
          "output_type": "execute_result"
        }
      ],
      "source": [
        "X_train"
      ]
    },
    {
      "cell_type": "code",
      "execution_count": null,
      "metadata": {
        "id": "OmugHbM5AEta",
        "outputId": "9be9df28-0172-4708-94d0-b4dd10fb2585"
      },
      "outputs": [
        {
          "data": {
            "text/plain": [
              "array([[7.4, 2.8, 6.1, 1.9],\n",
              "       [6.3, 2.3, 4.4, 1.3],\n",
              "       [6.1, 2.8, 4. , 1.3],\n",
              "       [6.1, 2.8, 4.7, 1.2],\n",
              "       [5.8, 2.7, 5.1, 1.9],\n",
              "       [5. , 3.3, 1.4, 0.2],\n",
              "       [5.6, 2.9, 3.6, 1.3],\n",
              "       [5.7, 4.4, 1.5, 0.4],\n",
              "       [6. , 2.2, 5. , 1.5],\n",
              "       [7.6, 3. , 6.6, 2.1],\n",
              "       [5.2, 4.1, 1.5, 0.1],\n",
              "       [5.1, 3.8, 1.9, 0.4],\n",
              "       [7.2, 3.6, 6.1, 2.5],\n",
              "       [6.3, 3.3, 4.7, 1.6],\n",
              "       [7.7, 3. , 6.1, 2.3]])"
            ]
          },
          "execution_count": 246,
          "metadata": {},
          "output_type": "execute_result"
        }
      ],
      "source": [
        "X_test"
      ]
    },
    {
      "cell_type": "code",
      "execution_count": null,
      "metadata": {
        "id": "zeCj_o4kAEta",
        "outputId": "a767ffdb-ee85-4956-ea36-da0bfe2ad858"
      },
      "outputs": [
        {
          "data": {
            "text/plain": [
              "array([0, 0, 0, 0, 0, 0, 0, 0, 0, 0, 0, 0, 0, 0, 0, 0, 0, 0, 0, 0, 0, 0,\n",
              "       0, 0, 0, 0, 0, 0, 0, 0, 0, 0, 0, 0, 0, 0, 0, 0, 0, 0, 0, 0, 0, 0,\n",
              "       0, 0, 0, 0, 0, 0, 1, 1, 1, 1, 1, 1, 1, 1, 1, 1, 1, 1, 1, 1, 1, 1,\n",
              "       1, 1, 1, 1, 1, 1, 1, 1, 1, 1, 1, 1, 1, 1, 1, 1, 1, 1, 1, 1, 1, 1,\n",
              "       1, 1, 1, 1, 1, 1, 1, 1, 1, 1, 1, 1, 2, 2, 2, 2, 2, 2, 2, 2, 2, 2,\n",
              "       2, 2, 2, 2, 2, 2, 2, 2, 2, 2, 2, 2, 2, 2, 2, 2, 2, 2, 2, 2, 2, 2,\n",
              "       2, 2, 2, 2, 2, 2, 2, 2, 2, 2, 2, 2, 2, 2, 2, 2, 2, 2])"
            ]
          },
          "execution_count": 247,
          "metadata": {},
          "output_type": "execute_result"
        }
      ],
      "source": [
        "y"
      ]
    },
    {
      "cell_type": "code",
      "execution_count": null,
      "metadata": {
        "id": "epp0scIeAEtb",
        "outputId": "e4eb3d34-dea6-48eb-90d3-d8248a72b281"
      },
      "outputs": [
        {
          "data": {
            "text/plain": [
              "array([0, 0, 0, 2, 1, 0, 2, 2, 1, 2, 2, 2, 2, 0, 2, 1, 0, 1, 0, 1, 0, 0,\n",
              "       0, 2, 1, 1, 2, 0, 0, 0, 2, 2, 0, 0, 1, 2, 1, 1, 2, 2, 1, 1, 0, 1,\n",
              "       1, 0, 1, 2, 0, 2, 2, 1, 1, 2, 0, 1, 2, 0, 0, 0, 1, 2, 0, 0, 0, 2,\n",
              "       0, 1, 0, 0, 1, 1, 1, 1, 0, 1, 1, 2, 1, 2, 2, 2, 1, 2, 0, 0, 0, 0,\n",
              "       0, 2, 1, 0, 1, 2, 0, 2, 1, 1, 0, 1, 1, 2, 0, 2, 2, 0, 2, 0, 1, 1,\n",
              "       2, 1, 2, 1, 1, 0, 0, 0, 2, 2, 2, 0, 1, 1, 1, 2, 2, 2, 2, 1, 0, 1,\n",
              "       0, 1, 2])"
            ]
          },
          "execution_count": 248,
          "metadata": {},
          "output_type": "execute_result"
        }
      ],
      "source": [
        "y_train"
      ]
    },
    {
      "cell_type": "code",
      "execution_count": null,
      "metadata": {
        "id": "KKNE10BMAEtb",
        "outputId": "80b79f58-df50-45e0-c679-5187367c827e"
      },
      "outputs": [
        {
          "data": {
            "text/plain": [
              "array([2, 1, 1, 1, 2, 0, 1, 0, 2, 2, 0, 0, 2, 1, 2])"
            ]
          },
          "execution_count": 249,
          "metadata": {},
          "output_type": "execute_result"
        }
      ],
      "source": [
        "y_test\n"
      ]
    },
    {
      "cell_type": "markdown",
      "metadata": {
        "id": "hblF-ei9Ncia"
      },
      "source": [
        "# Part 3: Logistic Regression"
      ]
    },
    {
      "cell_type": "code",
      "execution_count": null,
      "metadata": {
        "colab": {
          "base_uri": "https://localhost:8080/"
        },
        "id": "IhFhEN03Nf7o",
        "outputId": "15a94661-020b-4520-b5f3-c34fdfb042f2"
      },
      "outputs": [
        {
          "data": {
            "text/plain": [
              "array([2])"
            ]
          },
          "execution_count": 250,
          "metadata": {},
          "output_type": "execute_result"
        }
      ],
      "source": [
        "\n",
        "# i. Use sklearn to train a LogisticRegression model on the training set\n",
        "logreg = LogisticRegression().fit(X_train, y_train)\n",
        "logreg.predict(X_test[0].reshape(1, -1))\n",
        "\n",
        "# ii. For a sample datapoint, predict the probabilities for each possible class\n",
        "\n",
        "# iii. Report on the score for Logistic regression model, what does the score measure?\n",
        "\n",
        "# iv. Extract the coefficents and intercepts for the boundary line(s)"
      ]
    },
    {
      "cell_type": "code",
      "execution_count": null,
      "metadata": {
        "id": "SZnk09iTAEte",
        "outputId": "518be751-1e1b-408d-d0b4-c5b7f79d14d5"
      },
      "outputs": [
        {
          "data": {
            "text/plain": [
              "array([2])"
            ]
          },
          "execution_count": 251,
          "metadata": {},
          "output_type": "execute_result"
        }
      ],
      "source": [
        "logreg_pred = logreg.predict(X_test[0].reshape(1, -1))\n",
        "logreg_pred"
      ]
    },
    {
      "cell_type": "code",
      "execution_count": null,
      "metadata": {
        "id": "pLfl5cUDAEtf",
        "outputId": "558f2639-5565-44bc-a886-d7e9745df34a"
      },
      "outputs": [
        {
          "data": {
            "text/plain": [
              "0.9333333333333333"
            ]
          },
          "execution_count": 252,
          "metadata": {},
          "output_type": "execute_result"
        }
      ],
      "source": [
        "logreg.score(X_test, y_test)"
      ]
    },
    {
      "cell_type": "code",
      "execution_count": null,
      "metadata": {
        "id": "iD1FEfOiAEtf",
        "outputId": "ddd52f61-0b93-4ea9-fa5a-f1da874bb247"
      },
      "outputs": [
        {
          "data": {
            "text/plain": [
              "array([[-0.41464563,  0.89397135, -2.43772401, -1.03168631],\n",
              "       [ 0.50045064, -0.46118722, -0.15990522, -0.95137971],\n",
              "       [-0.08580501, -0.43278413,  2.59762923,  1.98306603]])"
            ]
          },
          "execution_count": 253,
          "metadata": {},
          "output_type": "execute_result"
        }
      ],
      "source": [
        "logreg.coef_"
      ]
    },
    {
      "cell_type": "code",
      "execution_count": null,
      "metadata": {
        "id": "7jwI3gb4AEtg",
        "outputId": "7fbf240f-1e0c-4a3c-c29f-327432358521"
      },
      "outputs": [
        {
          "data": {
            "text/plain": [
              "array([  9.66159328,   2.58146512, -12.24305839])"
            ]
          },
          "execution_count": 254,
          "metadata": {},
          "output_type": "execute_result"
        }
      ],
      "source": [
        "logreg.intercept_"
      ]
    },
    {
      "cell_type": "markdown",
      "metadata": {
        "id": "HXJHtVSdAEtg"
      },
      "source": [
        "### Score for Logistic regression model\n",
        "\n",
        "The score returned from the test is 0.9333 which is a 93.33% accuracy. This is a high score but the goal is to reach 1.0 which is a 100% accuracy."
      ]
    },
    {
      "cell_type": "markdown",
      "metadata": {
        "id": "BDUpXQN4Nilk"
      },
      "source": [
        "# Part 4: Support Vector Machine"
      ]
    },
    {
      "cell_type": "code",
      "execution_count": null,
      "metadata": {
        "colab": {
          "base_uri": "https://localhost:8080/"
        },
        "id": "U__zukpdNqiQ",
        "outputId": "5cd81a50-9137-4f36-842e-0687e9bc7c45"
      },
      "outputs": [
        {
          "data": {
            "text/plain": [
              "array([2, 1, 1, 1, 2, 0, 1, 0, 2, 2, 0, 0, 2, 1, 2])"
            ]
          },
          "execution_count": 255,
          "metadata": {},
          "output_type": "execute_result"
        }
      ],
      "source": [
        "# i. Use sklearn to train a Support Vector Classifier on the training set\n",
        "clfsvm = svm.SVC(probability=True).fit(X_train, y_train)\n",
        "clfsvm.fit(X_train, y_train)\n",
        "clfsvm.predict(X_test)\n",
        "# ii. For a sample datapoint, predict the probabilities for each possible class\n",
        "\n",
        "# iii. Report on the score for the SVM, what does the score measure?"
      ]
    },
    {
      "cell_type": "code",
      "execution_count": null,
      "metadata": {
        "id": "hxFAToNUAEth",
        "outputId": "42122326-79f3-46bb-99b1-3512e477e5cb"
      },
      "outputs": [
        {
          "data": {
            "text/plain": [
              "array([2])"
            ]
          },
          "execution_count": 256,
          "metadata": {},
          "output_type": "execute_result"
        }
      ],
      "source": [
        "clfsvm_pred = clfsvm.predict(X_test[0].reshape(1, -1))\n",
        "clfsvm_pred\n"
      ]
    },
    {
      "cell_type": "code",
      "execution_count": null,
      "metadata": {
        "id": "S26Yfl1qAEth",
        "outputId": "07b8f315-cc1f-4712-be2c-2a8d15006927"
      },
      "outputs": [
        {
          "data": {
            "text/plain": [
              "1.0"
            ]
          },
          "execution_count": 257,
          "metadata": {},
          "output_type": "execute_result"
        }
      ],
      "source": [
        "clfsvm.score(X_test, y_test)"
      ]
    },
    {
      "cell_type": "markdown",
      "metadata": {
        "id": "eHTkPniNAEth"
      },
      "source": [
        "### Score for Support Vector Machine model\n",
        "\n",
        "The score returned from the test is 1.0 which is a 100% accuracy. This is a perfect score which we are aiming for. "
      ]
    },
    {
      "cell_type": "markdown",
      "metadata": {
        "id": "ULoL7mMBNrlS"
      },
      "source": [
        "# Part 5: Neural Network"
      ]
    },
    {
      "cell_type": "code",
      "execution_count": null,
      "metadata": {
        "colab": {
          "base_uri": "https://localhost:8080/"
        },
        "id": "CKKmODVrN9lQ",
        "outputId": "dced24f7-c6bd-45fb-c68f-87548e9228dc"
      },
      "outputs": [
        {
          "data": {
            "text/plain": [
              "array([0])"
            ]
          },
          "execution_count": 258,
          "metadata": {},
          "output_type": "execute_result"
        }
      ],
      "source": [
        "# i. Use sklearn to train a Neural Network (MLP Classifier) on the training set\n",
        "clfneural = MLPClassifier(solver='lbfgs', alpha=1e-5, hidden_layer_sizes=(5, 2), random_state=1)\n",
        "clfneural.fit(X_train, y_train)\n",
        "# ii. For a sample datapoint, predict the probabilities for each possible class\n",
        "clfneural_pred = clfneural.predict(X_test[0].reshape(1, -1))\n",
        "clfneural_pred\n",
        "\n",
        "# iii. Report on the score for the Neural Network, what does the score measure?\n",
        "\n",
        "# iv: Experiment with different options for the neural network, report on your best configuration (the highest score I was able to achieve was 0.8666)"
      ]
    },
    {
      "cell_type": "code",
      "execution_count": null,
      "metadata": {
        "id": "e7DHuMCDAEti",
        "outputId": "b06ef8ce-2575-4418-f414-ebf6b52a77c6"
      },
      "outputs": [
        {
          "data": {
            "text/plain": [
              "0.26666666666666666"
            ]
          },
          "execution_count": 259,
          "metadata": {},
          "output_type": "execute_result"
        }
      ],
      "source": [
        "clfneural.score(X_test, y_test)"
      ]
    },
    {
      "cell_type": "code",
      "execution_count": null,
      "metadata": {
        "id": "QJd8V4HyAEti",
        "outputId": "a53aecc5-2a20-40ca-ece6-5a5b2d5a4f23"
      },
      "outputs": [
        {
          "data": {
            "text/plain": [
              "array([2])"
            ]
          },
          "execution_count": 260,
          "metadata": {},
          "output_type": "execute_result"
        }
      ],
      "source": [
        "clfneural2 = MLPClassifier(solver='lbfgs', hidden_layer_sizes=(3, 3))\n",
        "clfneural2.fit(X_train, y_train)\n",
        "clfneural2_pred = clfneural2.predict(X_test[0].reshape(1, -1))\n",
        "clfneural2_pred"
      ]
    },
    {
      "cell_type": "code",
      "execution_count": null,
      "metadata": {
        "id": "AU1X8NX7AEti",
        "outputId": "11a717f2-558f-4a42-e4aa-2b9322d9a3d1"
      },
      "outputs": [
        {
          "data": {
            "text/plain": [
              "1.0"
            ]
          },
          "execution_count": 261,
          "metadata": {},
          "output_type": "execute_result"
        }
      ],
      "source": [
        "clfneural2.score(X_test, y_test)"
      ]
    },
    {
      "cell_type": "markdown",
      "metadata": {
        "id": "Kr6sSS-QAEtj"
      },
      "source": [
        "### Score for Support Vector Machine model\n",
        "\n",
        "The score returned from the test is 0.2666 which is a 26.66% accuracy. This is a low score that is far from our target. I changed the parameters for the second neural network and was able to get a score of 1.0, only with solver='lbfgs'and hidden_layer_sizes=(3, 3)."
      ]
    },
    {
      "cell_type": "markdown",
      "metadata": {
        "id": "_bi5tDwHmC28"
      },
      "source": [
        "# Part 6: K-Nearest Neighbors"
      ]
    },
    {
      "cell_type": "code",
      "execution_count": null,
      "metadata": {
        "id": "qCFlfJy2mCg6"
      },
      "outputs": [],
      "source": [
        "# i. Use sklearn to 'train' a k-Neighbors Classifier\n",
        "# Note: KNN is a nonparametric model and technically doesn't require training\n",
        "# fit will essentially load the data into the model see link below for more information\n",
        "# https://stats.stackexchange.com/questions/349842/why-do-we-need-to-fit-a-k-nearest-neighbors-classifier\n",
        "neigh = KNeighborsClassifier()\n",
        "neigh.fit(X_train, y_train)\n",
        "neigh_pred = neigh.predict(X_test)\n",
        "\n",
        "# ii. For a sample datapoint, predict the probabilities for each possible class\n",
        "\n",
        "# iii. Report on the score for kNN, what does the score measure?"
      ]
    },
    {
      "cell_type": "code",
      "execution_count": null,
      "metadata": {
        "id": "S-COLQflAEtj",
        "outputId": "181c47ad-be2e-4d05-d7d2-af58545e1d0c"
      },
      "outputs": [
        {
          "data": {
            "text/plain": [
              "array([2])"
            ]
          },
          "execution_count": 263,
          "metadata": {},
          "output_type": "execute_result"
        }
      ],
      "source": [
        "neigh_pred = neigh.predict(X_test[0].reshape(1, -1))\n",
        "neigh_pred"
      ]
    },
    {
      "cell_type": "code",
      "execution_count": null,
      "metadata": {
        "id": "F1dIM44rAEtk",
        "outputId": "28ea5515-e51c-4ae9-c6c6-4c6b9e386aaa"
      },
      "outputs": [
        {
          "data": {
            "text/plain": [
              "0.9333333333333333"
            ]
          },
          "execution_count": 264,
          "metadata": {},
          "output_type": "execute_result"
        }
      ],
      "source": [
        "neigh.score(X_test, y_test)"
      ]
    },
    {
      "cell_type": "markdown",
      "metadata": {
        "id": "6Mzrm6HSAEtk"
      },
      "source": [
        "### Score for K-Nearest Neighbors model\n",
        "\n",
        "The score returned from the test is 1.0 which is a 100% accuracy. This is a really good model since we received a perfect score. "
      ]
    },
    {
      "cell_type": "markdown",
      "metadata": {
        "id": "162Sw3LeoqE2"
      },
      "source": [
        "# Part 7: Conclusions and takeaways\n",
        "\n",
        "In your own words describe the results of the notebook. Which model(s) performed the best on the dataset? Why do you think that is? Did anything surprise you about the exercise?\n",
        "\n",
        "The results in the notebook show the different machine learning models on the iris dataset. It allows us to see how these models interact with the data given and find out the best model. The best models performed on the data set is K-nearest Neighbors and neural network with the right parameters. One thing that I was confused about it every time I would run the cells a new score would be given for another model. This may be because of my local machine or there must be a bug somewhere. Written in the markdown is the score that I saw at the time."
      ]
    }
  ],
  "metadata": {
    "colab": {
      "collapsed_sections": [],
      "name": "Untitled1.ipynb",
      "provenance": []
    },
    "kernelspec": {
      "display_name": "Python 3",
      "language": "python",
      "name": "python3"
    },
    "language_info": {
      "codemirror_mode": {
        "name": "ipython",
        "version": 3
      },
      "file_extension": ".py",
      "mimetype": "text/x-python",
      "name": "python",
      "nbconvert_exporter": "python",
      "pygments_lexer": "ipython3",
      "version": "3.8.10"
    }
  },
  "nbformat": 4,
  "nbformat_minor": 0
}